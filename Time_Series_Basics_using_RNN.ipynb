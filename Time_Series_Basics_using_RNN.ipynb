{
  "nbformat": 4,
  "nbformat_minor": 0,
  "metadata": {
    "colab": {
      "name": "Time Series Basics using RNN.ipynb",
      "provenance": [],
      "collapsed_sections": [],
      "authorship_tag": "ABX9TyP2hZhI43dXWO7uWHPptkyj",
      "include_colab_link": true
    },
    "kernelspec": {
      "name": "python3",
      "display_name": "Python 3"
    },
    "language_info": {
      "name": "python"
    }
  },
  "cells": [
    {
      "cell_type": "markdown",
      "metadata": {
        "id": "view-in-github",
        "colab_type": "text"
      },
      "source": [
        "<a href=\"https://colab.research.google.com/github/muditagarg/RNN/blob/main/Time_Series_Basics_using_RNN.ipynb\" target=\"_parent\"><img src=\"https://colab.research.google.com/assets/colab-badge.svg\" alt=\"Open In Colab\"/></a>"
      ]
    },
    {
      "cell_type": "markdown",
      "source": [
        "##Import basic Libraries"
      ],
      "metadata": {
        "id": "OdGfxKeBmdRb"
      }
    },
    {
      "cell_type": "code",
      "execution_count": 1,
      "metadata": {
        "id": "a8TYXe_tmZJL"
      },
      "outputs": [],
      "source": [
        "import pandas as pd\n",
        "import numpy as np\n",
        "%matplotlib inline\n",
        "import matplotlib.pyplot as plt"
      ]
    },
    {
      "cell_type": "markdown",
      "source": [
        "##For Timeseries and RNN"
      ],
      "metadata": {
        "id": "mxa8MvLem1BK"
      }
    },
    {
      "cell_type": "code",
      "source": [
        "from tensorflow.keras.models import Sequential\n",
        "from tensorflow.keras.layers import Dense,SimpleRNN"
      ],
      "metadata": {
        "id": "A7QE5XBNmzL-"
      },
      "execution_count": 2,
      "outputs": []
    },
    {
      "cell_type": "code",
      "source": [
        "!pip install"
      ],
      "metadata": {
        "id": "vPfyt70uoIvw"
      },
      "execution_count": null,
      "outputs": []
    },
    {
      "cell_type": "code",
      "source": [
        "#import keras:TimeSeriesGenerator\n",
        "#This class produces time series batches used on training and testing the model\n",
        "from tensorflow.keras.preprocessing.sequence import TimeseriesGenerator\n",
        "#import keras:minmaxscaler\n",
        "from sklearn.preprocessing import MinMaxScaler #for normalising the data (scale)"
      ],
      "metadata": {
        "id": "1QEKkf4DnJ_o"
      },
      "execution_count": 4,
      "outputs": []
    },
    {
      "cell_type": "markdown",
      "source": [
        "##Generate Data"
      ],
      "metadata": {
        "id": "1ls-LI2komWy"
      }
    },
    {
      "cell_type": "code",
      "source": [
        "#create a simple sine wave using Numpy\n",
        "x= np.linspace(0,64,1024) #ranging between (including) 0 and 64, generating 1024 data points\n",
        "y= np.sin(x) #y are sin values of x"
      ],
      "metadata": {
        "id": "Vwje0BM4ooY_"
      },
      "execution_count": 5,
      "outputs": []
    },
    {
      "cell_type": "code",
      "source": [
        "x # range of x goes from 0 to 64"
      ],
      "metadata": {
        "colab": {
          "base_uri": "https://localhost:8080/"
        },
        "id": "TFFu8-sophwe",
        "outputId": "30d0c477-f937-4f38-c8f6-b59e3febe1df"
      },
      "execution_count": 6,
      "outputs": [
        {
          "output_type": "execute_result",
          "data": {
            "text/plain": [
              "array([0.00000000e+00, 6.25610948e-02, 1.25122190e-01, ...,\n",
              "       6.38748778e+01, 6.39374389e+01, 6.40000000e+01])"
            ]
          },
          "metadata": {},
          "execution_count": 6
        }
      ]
    },
    {
      "cell_type": "code",
      "source": [
        "y #range of sin value is between -1 and 1"
      ],
      "metadata": {
        "colab": {
          "base_uri": "https://localhost:8080/"
        },
        "id": "1hhfj06Opiqg",
        "outputId": "7dbfd298-32b2-4088-e6f2-ec9767acdb18"
      },
      "execution_count": 7,
      "outputs": [
        {
          "output_type": "execute_result",
          "data": {
            "text/plain": [
              "array([0.        , 0.06252029, 0.12479597, ..., 0.86393146, 0.89372716,\n",
              "       0.92002604])"
            ]
          },
          "metadata": {},
          "execution_count": 7
        }
      ]
    },
    {
      "cell_type": "code",
      "source": [
        "plt.plot(x,y)"
      ],
      "metadata": {
        "colab": {
          "base_uri": "https://localhost:8080/",
          "height": 282
        },
        "id": "J0UgDMXBplip",
        "outputId": "ab379158-d5e1-4aad-8a60-8d2166f599aa"
      },
      "execution_count": 8,
      "outputs": [
        {
          "output_type": "execute_result",
          "data": {
            "text/plain": [
              "[<matplotlib.lines.Line2D at 0x7fa09933e750>]"
            ]
          },
          "metadata": {},
          "execution_count": 8
        },
        {
          "output_type": "display_data",
          "data": {
            "image/png": "[encoded data removed]",
            "text/plain": [
              "<Figure size 432x288 with 1 Axes>"
            ]
          },
          "metadata": {
            "needs_background": "light"
          }
        }
      ]
    },
    {
      "cell_type": "code",
      "source": [
        "#load data into pandas dataframe \n",
        "#Index: x; Data: y; Column Label: Sine\n",
        "df= pd.DataFrame(data=y, index=x, columns=['Sine'])"
      ],
      "metadata": {
        "id": "m6G1YkpkpwDC"
      },
      "execution_count": 9,
      "outputs": []
    },
    {
      "cell_type": "code",
      "source": [
        "df.head(5)"
      ],
      "metadata": {
        "colab": {
          "base_uri": "https://localhost:8080/",
          "height": 206
        },
        "id": "leOP75MQqQk1",
        "outputId": "9f0b5787-f052-49ba-f8b2-84c93e8ccf86"
      },
      "execution_count": 10,
      "outputs": [
        {
          "output_type": "execute_result",
          "data": {
            "text/html": [
              "\n",
              "  <div id=\"df-5e1c3ff5-80ce-434d-a5cf-e7cb309b0ab7\">\n",
              "    <div class=\"colab-df-container\">\n",
              "      <div>\n",
              "<style scoped>\n",
              "    .dataframe tbody tr th:only-of-type {\n",
              "        vertical-align: middle;\n",
              "    }\n",
              "\n",
              "    .dataframe tbody tr th {\n",
              "        vertical-align: top;\n",
              "    }\n",
              "\n",
              "    .dataframe thead th {\n",
              "        text-align: right;\n",
              "    }\n",
              "</style>\n",
              "<table border=\"1\" class=\"dataframe\">\n",
              "  <thead>\n",
              "    <tr style=\"text-align: right;\">\n",
              "      <th></th>\n",
              "      <th>Sine</th>\n",
              "    </tr>\n",
              "  </thead>\n",
              "  <tbody>\n",
              "    <tr>\n",
              "      <th>0.000000</th>\n",
              "      <td>0.000000</td>\n",
              "    </tr>\n",
              "    <tr>\n",
              "      <th>0.062561</th>\n",
              "      <td>0.062520</td>\n",
              "    </tr>\n",
              "    <tr>\n",
              "      <th>0.125122</th>\n",
              "      <td>0.124796</td>\n",
              "    </tr>\n",
              "    <tr>\n",
              "      <th>0.187683</th>\n",
              "      <td>0.186583</td>\n",
              "    </tr>\n",
              "    <tr>\n",
              "      <th>0.250244</th>\n",
              "      <td>0.247641</td>\n",
              "    </tr>\n",
              "  </tbody>\n",
              "</table>\n",
              "</div>\n",
              "      <button class=\"colab-df-convert\" onclick=\"convertToInteractive('df-5e1c3ff5-80ce-434d-a5cf-e7cb309b0ab7')\"\n",
              "              title=\"Convert this dataframe to an interactive table.\"\n",
              "              style=\"display:none;\">\n",
              "        \n",
              "  <svg xmlns=\"http://www.w3.org/2000/svg\" height=\"24px\"viewBox=\"0 0 24 24\"\n",
              "       width=\"24px\">\n",
              "    <path d=\"M0 0h24v24H0V0z\" fill=\"none\"/>\n",
              "    <path d=\"M18.56 5.44l.94 2.06.94-2.06 2.06-.94-2.06-.94-.94-2.06-.94 2.06-2.06.94zm-11 1L8.5 8.5l.94-2.06 2.06-.94-2.06-.94L8.5 2.5l-.94 2.06-2.06.94zm10 10l.94 2.06.94-2.06 2.06-.94-2.06-.94-.94-2.06-.94 2.06-2.06.94z\"/><path d=\"M17.41 7.96l-1.37-1.37c-.4-.4-.92-.59-1.43-.59-.52 0-1.04.2-1.43.59L10.3 9.45l-7.72 7.72c-.78.78-.78 2.05 0 2.83L4 21.41c.39.39.9.59 1.41.59.51 0 1.02-.2 1.41-.59l7.78-7.78 2.81-2.81c.8-.78.8-2.07 0-2.86zM5.41 20L4 18.59l7.72-7.72 1.47 1.35L5.41 20z\"/>\n",
              "  </svg>\n",
              "      </button>\n",
              "      \n",
              "  <style>\n",
              "    .colab-df-container {\n",
              "      display:flex;\n",
              "      flex-wrap:wrap;\n",
              "      gap: 12px;\n",
              "    }\n",
              "\n",
              "    .colab-df-convert {\n",
              "      background-color: #E8F0FE;\n",
              "      border: none;\n",
              "      border-radius: 50%;\n",
              "      cursor: pointer;\n",
              "      display: none;\n",
              "      fill: #1967D2;\n",
              "      height: 32px;\n",
              "      padding: 0 0 0 0;\n",
              "      width: 32px;\n",
              "    }\n",
              "\n",
              "    .colab-df-convert:hover {\n",
              "      background-color: #E2EBFA;\n",
              "      box-shadow: 0px 1px 2px rgba(60, 64, 67, 0.3), 0px 1px 3px 1px rgba(60, 64, 67, 0.15);\n",
              "      fill: #174EA6;\n",
              "    }\n",
              "\n",
              "    [theme=dark] .colab-df-convert {\n",
              "      background-color: #3B4455;\n",
              "      fill: #D2E3FC;\n",
              "    }\n",
              "\n",
              "    [theme=dark] .colab-df-convert:hover {\n",
              "      background-color: #434B5C;\n",
              "      box-shadow: 0px 1px 3px 1px rgba(0, 0, 0, 0.15);\n",
              "      filter: drop-shadow(0px 1px 2px rgba(0, 0, 0, 0.3));\n",
              "      fill: #FFFFFF;\n",
              "    }\n",
              "  </style>\n",
              "\n",
              "      <script>\n",
              "        const buttonEl =\n",
              "          document.querySelector('#df-5e1c3ff5-80ce-434d-a5cf-e7cb309b0ab7 button.colab-df-convert');\n",
              "        buttonEl.style.display =\n",
              "          google.colab.kernel.accessAllowed ? 'block' : 'none';\n",
              "\n",
              "        async function convertToInteractive(key) {\n",
              "          const element = document.querySelector('#df-5e1c3ff5-80ce-434d-a5cf-e7cb309b0ab7');\n",
              "          const dataTable =\n",
              "            await google.colab.kernel.invokeFunction('convertToInteractive',\n",
              "                                                     [key], {});\n",
              "          if (!dataTable) return;\n",
              "\n",
              "          const docLinkHtml = 'Like what you see? Visit the ' +\n",
              "            '<a target=\"_blank\" href=https://colab.research.google.com/notebooks/data_table.ipynb>data table notebook</a>'\n",
              "            + ' to learn more about interactive tables.';\n",
              "          element.innerHTML = '';\n",
              "          dataTable['output_type'] = 'display_data';\n",
              "          await google.colab.output.renderOutput(dataTable, element);\n",
              "          const docLink = document.createElement('div');\n",
              "          docLink.innerHTML = docLinkHtml;\n",
              "          element.appendChild(docLink);\n",
              "        }\n",
              "      </script>\n",
              "    </div>\n",
              "  </div>\n",
              "  "
            ],
            "text/plain": [
              "              Sine\n",
              "0.000000  0.000000\n",
              "0.062561  0.062520\n",
              "0.125122  0.124796\n",
              "0.187683  0.186583\n",
              "0.250244  0.247641"
            ]
          },
          "metadata": {},
          "execution_count": 10
        }
      ]
    },
    {
      "cell_type": "code",
      "source": [
        "len(df)"
      ],
      "metadata": {
        "colab": {
          "base_uri": "https://localhost:8080/"
        },
        "id": "WgRHAzbz2tRG",
        "outputId": "68816e5f-6186-4d48-a2bd-52eb60a00fe8"
      },
      "execution_count": 11,
      "outputs": [
        {
          "output_type": "execute_result",
          "data": {
            "text/plain": [
              "1024"
            ]
          },
          "metadata": {},
          "execution_count": 11
        }
      ]
    },
    {
      "cell_type": "markdown",
      "source": [
        "###Split data into testing and training"
      ],
      "metadata": {
        "id": "1JXKK5OK2vNG"
      }
    },
    {
      "cell_type": "code",
      "source": [
        "#set percentage of data used for training\n",
        "test_percent = 0.2"
      ],
      "metadata": {
        "id": "RgLGoclw20Kl"
      },
      "execution_count": 13,
      "outputs": []
    },
    {
      "cell_type": "code",
      "source": [
        "#Number of data points reserved for testing the model\n",
        "#20% of the original dataset\n",
        "len(df)*test_percent"
      ],
      "metadata": {
        "colab": {
          "base_uri": "https://localhost:8080/"
        },
        "id": "4glAihTl3Nmh",
        "outputId": "6d413648-edb8-4fbc-c6b9-f5239319584b"
      },
      "execution_count": 14,
      "outputs": [
        {
          "output_type": "execute_result",
          "data": {
            "text/plain": [
              "204.8"
            ]
          },
          "metadata": {},
          "execution_count": 14
        }
      ]
    },
    {
      "cell_type": "code",
      "source": [
        "#need to find the length(number of data points) of the testing dataset.\n",
        "#it has been found (above) that around 205 datapoints are used for testing\n",
        "test_length = np.round(len(df)*test_percent)"
      ],
      "metadata": {
        "id": "0oHpD8Td3amy"
      },
      "execution_count": 15,
      "outputs": []
    },
    {
      "cell_type": "code",
      "source": [
        "test_length"
      ],
      "metadata": {
        "colab": {
          "base_uri": "https://localhost:8080/"
        },
        "id": "GeP5QavO3tKE",
        "outputId": "0e4301ea-066b-4fc6-ceb9-7e431334c42d"
      },
      "execution_count": 16,
      "outputs": [
        {
          "output_type": "execute_result",
          "data": {
            "text/plain": [
              "205.0"
            ]
          },
          "metadata": {},
          "execution_count": 16
        }
      ]
    },
    {
      "cell_type": "code",
      "source": [
        "#the testing data set starts at this index\n",
        "#index starting with 0\n",
        "test_start_index = int(len(df) - test_length) #take length of original dataset - test data"
      ],
      "metadata": {
        "id": "FxXfVt_F3v5C"
      },
      "execution_count": 19,
      "outputs": []
    },
    {
      "cell_type": "code",
      "source": [
        "test_start_index #starting of test data index is 819 so its 819 to 1023"
      ],
      "metadata": {
        "colab": {
          "base_uri": "https://localhost:8080/"
        },
        "id": "rSbOo6Zj3zWb",
        "outputId": "92e2a21e-93b5-42eb-90ff-f5d36f2302eb"
      },
      "execution_count": 20,
      "outputs": [
        {
          "output_type": "execute_result",
          "data": {
            "text/plain": [
              "819"
            ]
          },
          "metadata": {},
          "execution_count": 20
        }
      ]
    },
    {
      "cell_type": "code",
      "source": [
        "#create separate training/ testing datasets\n",
        "#training dataset: all index starting from start to test_start_index\n",
        "data_train = df.iloc[: test_start_index :]\n",
        "#testing dataset: all index from test_start_index to the end of df\n",
        "data_test = df.iloc[test_start_index :]"
      ],
      "metadata": {
        "id": "qdbGwCL64QJ6"
      },
      "execution_count": 23,
      "outputs": []
    },
    {
      "cell_type": "code",
      "source": [
        "data_train.head(5)"
      ],
      "metadata": {
        "colab": {
          "base_uri": "https://localhost:8080/",
          "height": 206
        },
        "id": "Wgwj1EW946Rg",
        "outputId": "61c272b0-a8cc-4dd2-ddfe-fbe7faf37f9f"
      },
      "execution_count": 24,
      "outputs": [
        {
          "output_type": "execute_result",
          "data": {
            "text/html": [
              "\n",
              "  <div id=\"df-0ea02cd6-9b3e-4621-b7d9-669223380079\">\n",
              "    <div class=\"colab-df-container\">\n",
              "      <div>\n",
              "<style scoped>\n",
              "    .dataframe tbody tr th:only-of-type {\n",
              "        vertical-align: middle;\n",
              "    }\n",
              "\n",
              "    .dataframe tbody tr th {\n",
              "        vertical-align: top;\n",
              "    }\n",
              "\n",
              "    .dataframe thead th {\n",
              "        text-align: right;\n",
              "    }\n",
              "</style>\n",
              "<table border=\"1\" class=\"dataframe\">\n",
              "  <thead>\n",
              "    <tr style=\"text-align: right;\">\n",
              "      <th></th>\n",
              "      <th>Sine</th>\n",
              "    </tr>\n",
              "  </thead>\n",
              "  <tbody>\n",
              "    <tr>\n",
              "      <th>0.000000</th>\n",
              "      <td>0.000000</td>\n",
              "    </tr>\n",
              "    <tr>\n",
              "      <th>0.062561</th>\n",
              "      <td>0.062520</td>\n",
              "    </tr>\n",
              "    <tr>\n",
              "      <th>0.125122</th>\n",
              "      <td>0.124796</td>\n",
              "    </tr>\n",
              "    <tr>\n",
              "      <th>0.187683</th>\n",
              "      <td>0.186583</td>\n",
              "    </tr>\n",
              "    <tr>\n",
              "      <th>0.250244</th>\n",
              "      <td>0.247641</td>\n",
              "    </tr>\n",
              "  </tbody>\n",
              "</table>\n",
              "</div>\n",
              "      <button class=\"colab-df-convert\" onclick=\"convertToInteractive('df-0ea02cd6-9b3e-4621-b7d9-669223380079')\"\n",
              "              title=\"Convert this dataframe to an interactive table.\"\n",
              "              style=\"display:none;\">\n",
              "        \n",
              "  <svg xmlns=\"http://www.w3.org/2000/svg\" height=\"24px\"viewBox=\"0 0 24 24\"\n",
              "       width=\"24px\">\n",
              "    <path d=\"M0 0h24v24H0V0z\" fill=\"none\"/>\n",
              "    <path d=\"M18.56 5.44l.94 2.06.94-2.06 2.06-.94-2.06-.94-.94-2.06-.94 2.06-2.06.94zm-11 1L8.5 8.5l.94-2.06 2.06-.94-2.06-.94L8.5 2.5l-.94 2.06-2.06.94zm10 10l.94 2.06.94-2.06 2.06-.94-2.06-.94-.94-2.06-.94 2.06-2.06.94z\"/><path d=\"M17.41 7.96l-1.37-1.37c-.4-.4-.92-.59-1.43-.59-.52 0-1.04.2-1.43.59L10.3 9.45l-7.72 7.72c-.78.78-.78 2.05 0 2.83L4 21.41c.39.39.9.59 1.41.59.51 0 1.02-.2 1.41-.59l7.78-7.78 2.81-2.81c.8-.78.8-2.07 0-2.86zM5.41 20L4 18.59l7.72-7.72 1.47 1.35L5.41 20z\"/>\n",
              "  </svg>\n",
              "      </button>\n",
              "      \n",
              "  <style>\n",
              "    .colab-df-container {\n",
              "      display:flex;\n",
              "      flex-wrap:wrap;\n",
              "      gap: 12px;\n",
              "    }\n",
              "\n",
              "    .colab-df-convert {\n",
              "      background-color: #E8F0FE;\n",
              "      border: none;\n",
              "      border-radius: 50%;\n",
              "      cursor: pointer;\n",
              "      display: none;\n",
              "      fill: #1967D2;\n",
              "      height: 32px;\n",
              "      padding: 0 0 0 0;\n",
              "      width: 32px;\n",
              "    }\n",
              "\n",
              "    .colab-df-convert:hover {\n",
              "      background-color: #E2EBFA;\n",
              "      box-shadow: 0px 1px 2px rgba(60, 64, 67, 0.3), 0px 1px 3px 1px rgba(60, 64, 67, 0.15);\n",
              "      fill: #174EA6;\n",
              "    }\n",
              "\n",
              "    [theme=dark] .colab-df-convert {\n",
              "      background-color: #3B4455;\n",
              "      fill: #D2E3FC;\n",
              "    }\n",
              "\n",
              "    [theme=dark] .colab-df-convert:hover {\n",
              "      background-color: #434B5C;\n",
              "      box-shadow: 0px 1px 3px 1px rgba(0, 0, 0, 0.15);\n",
              "      filter: drop-shadow(0px 1px 2px rgba(0, 0, 0, 0.3));\n",
              "      fill: #FFFFFF;\n",
              "    }\n",
              "  </style>\n",
              "\n",
              "      <script>\n",
              "        const buttonEl =\n",
              "          document.querySelector('#df-0ea02cd6-9b3e-4621-b7d9-669223380079 button.colab-df-convert');\n",
              "        buttonEl.style.display =\n",
              "          google.colab.kernel.accessAllowed ? 'block' : 'none';\n",
              "\n",
              "        async function convertToInteractive(key) {\n",
              "          const element = document.querySelector('#df-0ea02cd6-9b3e-4621-b7d9-669223380079');\n",
              "          const dataTable =\n",
              "            await google.colab.kernel.invokeFunction('convertToInteractive',\n",
              "                                                     [key], {});\n",
              "          if (!dataTable) return;\n",
              "\n",
              "          const docLinkHtml = 'Like what you see? Visit the ' +\n",
              "            '<a target=\"_blank\" href=https://colab.research.google.com/notebooks/data_table.ipynb>data table notebook</a>'\n",
              "            + ' to learn more about interactive tables.';\n",
              "          element.innerHTML = '';\n",
              "          dataTable['output_type'] = 'display_data';\n",
              "          await google.colab.output.renderOutput(dataTable, element);\n",
              "          const docLink = document.createElement('div');\n",
              "          docLink.innerHTML = docLinkHtml;\n",
              "          element.appendChild(docLink);\n",
              "        }\n",
              "      </script>\n",
              "    </div>\n",
              "  </div>\n",
              "  "
            ],
            "text/plain": [
              "              Sine\n",
              "0.000000  0.000000\n",
              "0.062561  0.062520\n",
              "0.125122  0.124796\n",
              "0.187683  0.186583\n",
              "0.250244  0.247641"
            ]
          },
          "metadata": {},
          "execution_count": 24
        }
      ]
    },
    {
      "cell_type": "code",
      "source": [
        "data_test.head(5)"
      ],
      "metadata": {
        "colab": {
          "base_uri": "https://localhost:8080/",
          "height": 206
        },
        "id": "bbSAr2Ee49Ty",
        "outputId": "7a511b06-1a5d-4fb8-d4ba-eaf6bcbad508"
      },
      "execution_count": 25,
      "outputs": [
        {
          "output_type": "execute_result",
          "data": {
            "text/html": [
              "\n",
              "  <div id=\"df-b50eb02c-e138-4f70-85ad-a84841691d4f\">\n",
              "    <div class=\"colab-df-container\">\n",
              "      <div>\n",
              "<style scoped>\n",
              "    .dataframe tbody tr th:only-of-type {\n",
              "        vertical-align: middle;\n",
              "    }\n",
              "\n",
              "    .dataframe tbody tr th {\n",
              "        vertical-align: top;\n",
              "    }\n",
              "\n",
              "    .dataframe thead th {\n",
              "        text-align: right;\n",
              "    }\n",
              "</style>\n",
              "<table border=\"1\" class=\"dataframe\">\n",
              "  <thead>\n",
              "    <tr style=\"text-align: right;\">\n",
              "      <th></th>\n",
              "      <th>Sine</th>\n",
              "    </tr>\n",
              "  </thead>\n",
              "  <tbody>\n",
              "    <tr>\n",
              "      <th>51.237537</th>\n",
              "      <td>0.826045</td>\n",
              "    </tr>\n",
              "    <tr>\n",
              "      <th>51.300098</th>\n",
              "      <td>0.859666</td>\n",
              "    </tr>\n",
              "    <tr>\n",
              "      <th>51.362659</th>\n",
              "      <td>0.889923</td>\n",
              "    </tr>\n",
              "    <tr>\n",
              "      <th>51.425220</th>\n",
              "      <td>0.916698</td>\n",
              "    </tr>\n",
              "    <tr>\n",
              "      <th>51.487781</th>\n",
              "      <td>0.939887</td>\n",
              "    </tr>\n",
              "  </tbody>\n",
              "</table>\n",
              "</div>\n",
              "      <button class=\"colab-df-convert\" onclick=\"convertToInteractive('df-b50eb02c-e138-4f70-85ad-a84841691d4f')\"\n",
              "              title=\"Convert this dataframe to an interactive table.\"\n",
              "              style=\"display:none;\">\n",
              "        \n",
              "  <svg xmlns=\"http://www.w3.org/2000/svg\" height=\"24px\"viewBox=\"0 0 24 24\"\n",
              "       width=\"24px\">\n",
              "    <path d=\"M0 0h24v24H0V0z\" fill=\"none\"/>\n",
              "    <path d=\"M18.56 5.44l.94 2.06.94-2.06 2.06-.94-2.06-.94-.94-2.06-.94 2.06-2.06.94zm-11 1L8.5 8.5l.94-2.06 2.06-.94-2.06-.94L8.5 2.5l-.94 2.06-2.06.94zm10 10l.94 2.06.94-2.06 2.06-.94-2.06-.94-.94-2.06-.94 2.06-2.06.94z\"/><path d=\"M17.41 7.96l-1.37-1.37c-.4-.4-.92-.59-1.43-.59-.52 0-1.04.2-1.43.59L10.3 9.45l-7.72 7.72c-.78.78-.78 2.05 0 2.83L4 21.41c.39.39.9.59 1.41.59.51 0 1.02-.2 1.41-.59l7.78-7.78 2.81-2.81c.8-.78.8-2.07 0-2.86zM5.41 20L4 18.59l7.72-7.72 1.47 1.35L5.41 20z\"/>\n",
              "  </svg>\n",
              "      </button>\n",
              "      \n",
              "  <style>\n",
              "    .colab-df-container {\n",
              "      display:flex;\n",
              "      flex-wrap:wrap;\n",
              "      gap: 12px;\n",
              "    }\n",
              "\n",
              "    .colab-df-convert {\n",
              "      background-color: #E8F0FE;\n",
              "      border: none;\n",
              "      border-radius: 50%;\n",
              "      cursor: pointer;\n",
              "      display: none;\n",
              "      fill: #1967D2;\n",
              "      height: 32px;\n",
              "      padding: 0 0 0 0;\n",
              "      width: 32px;\n",
              "    }\n",
              "\n",
              "    .colab-df-convert:hover {\n",
              "      background-color: #E2EBFA;\n",
              "      box-shadow: 0px 1px 2px rgba(60, 64, 67, 0.3), 0px 1px 3px 1px rgba(60, 64, 67, 0.15);\n",
              "      fill: #174EA6;\n",
              "    }\n",
              "\n",
              "    [theme=dark] .colab-df-convert {\n",
              "      background-color: #3B4455;\n",
              "      fill: #D2E3FC;\n",
              "    }\n",
              "\n",
              "    [theme=dark] .colab-df-convert:hover {\n",
              "      background-color: #434B5C;\n",
              "      box-shadow: 0px 1px 3px 1px rgba(0, 0, 0, 0.15);\n",
              "      filter: drop-shadow(0px 1px 2px rgba(0, 0, 0, 0.3));\n",
              "      fill: #FFFFFF;\n",
              "    }\n",
              "  </style>\n",
              "\n",
              "      <script>\n",
              "        const buttonEl =\n",
              "          document.querySelector('#df-b50eb02c-e138-4f70-85ad-a84841691d4f button.colab-df-convert');\n",
              "        buttonEl.style.display =\n",
              "          google.colab.kernel.accessAllowed ? 'block' : 'none';\n",
              "\n",
              "        async function convertToInteractive(key) {\n",
              "          const element = document.querySelector('#df-b50eb02c-e138-4f70-85ad-a84841691d4f');\n",
              "          const dataTable =\n",
              "            await google.colab.kernel.invokeFunction('convertToInteractive',\n",
              "                                                     [key], {});\n",
              "          if (!dataTable) return;\n",
              "\n",
              "          const docLinkHtml = 'Like what you see? Visit the ' +\n",
              "            '<a target=\"_blank\" href=https://colab.research.google.com/notebooks/data_table.ipynb>data table notebook</a>'\n",
              "            + ' to learn more about interactive tables.';\n",
              "          element.innerHTML = '';\n",
              "          dataTable['output_type'] = 'display_data';\n",
              "          await google.colab.output.renderOutput(dataTable, element);\n",
              "          const docLink = document.createElement('div');\n",
              "          docLink.innerHTML = docLinkHtml;\n",
              "          element.appendChild(docLink);\n",
              "        }\n",
              "      </script>\n",
              "    </div>\n",
              "  </div>\n",
              "  "
            ],
            "text/plain": [
              "               Sine\n",
              "51.237537  0.826045\n",
              "51.300098  0.859666\n",
              "51.362659  0.889923\n",
              "51.425220  0.916698\n",
              "51.487781  0.939887"
            ]
          },
          "metadata": {},
          "execution_count": 25
        }
      ]
    },
    {
      "cell_type": "markdown",
      "source": [
        "##Normalise the data (scale it into the range [0,1])"
      ],
      "metadata": {
        "id": "-W6-opw55jMa"
      }
    },
    {
      "cell_type": "code",
      "source": [
        "#create a minmaxscaler to normalise the data\n",
        "scaler = MinMaxScaler()"
      ],
      "metadata": {
        "id": "LFRgYPhw5cfo"
      },
      "execution_count": 29,
      "outputs": []
    },
    {
      "cell_type": "code",
      "source": [
        "#only scale the training data and not scale testing data\n",
        "#train the scaler to perform the normalization\n",
        "scaler.fit(data_train)"
      ],
      "metadata": {
        "colab": {
          "base_uri": "https://localhost:8080/"
        },
        "id": "bOmUFE6q53P3",
        "outputId": "1a1fa00f-5472-403a-9c9b-6be116885d99"
      },
      "execution_count": 30,
      "outputs": [
        {
          "output_type": "execute_result",
          "data": {
            "text/plain": [
              "MinMaxScaler()"
            ]
          },
          "metadata": {},
          "execution_count": 30
        }
      ]
    },
    {
      "cell_type": "code",
      "source": [
        "#normalize the training dataset\n",
        "normalized_train = scaler.transform(data_train)\n",
        "#normalize the testing dataset\n",
        "normalized_test = scaler.transform(data_test)"
      ],
      "metadata": {
        "id": "Q-pxdXjL6JmG"
      },
      "execution_count": 31,
      "outputs": []
    },
    {
      "cell_type": "markdown",
      "source": [
        "##Create Timeseries generator instance"
      ],
      "metadata": {
        "id": "d-8rigD46l1o"
      }
    },
    {
      "cell_type": "code",
      "source": [
        "#timeseriesgenerator: generate time series batches for training/testing\n",
        "#set the length of the input sequence I.E. the number of time series steps that are used to predict the future one\n",
        "# use 50 historical data points to predict the next one\n",
        "length = 50\n",
        "\n",
        "#batch_size : number of time series samples in each batch\n",
        "#one sample: each sample is a time series input sequence\n",
        "#only one sample in each batch\n",
        "batch_size = 1\n",
        "\n",
        "#create a TimeSeriesGenerator for training : train_tsGenerator\n",
        "#this time series generator produces time series batches used to train the model\n",
        "#timeseriesgenerator(input dataset, output dataset, length, batch_size) #input = output since same dataset\n",
        "train_tsGenerator50 = TimeseriesGenerator(normalized_train, normalized_train, length = length, batch_size = batch_size)\n"
      ],
      "metadata": {
        "id": "Uuco8_Pe6lMx"
      },
      "execution_count": 32,
      "outputs": []
    },
    {
      "cell_type": "code",
      "source": [
        "#what does first batch look like?\n",
        "X,y = train_tsGenerator50[0] #since its array"
      ],
      "metadata": {
        "id": "1NHegT5v-Fq1"
      },
      "execution_count": 34,
      "outputs": []
    },
    {
      "cell_type": "code",
      "source": [
        "#Print X.flatten()\n",
        "X.flatten() #Flattened into 1-d array so that easily can see it"
      ],
      "metadata": {
        "colab": {
          "base_uri": "https://localhost:8080/"
        },
        "id": "XQk4_doP-RGn",
        "outputId": "74a37be6-5e53-450c-bff7-e4d64d0c2335"
      },
      "execution_count": 35,
      "outputs": [
        {
          "output_type": "execute_result",
          "data": {
            "text/plain": [
              "array([0.49999882, 0.53125908, 0.56239703, 0.59329085, 0.62381964,\n",
              "       0.65386398, 0.6833063 , 0.7120314 , 0.73992691, 0.76688367,\n",
              "       0.79279621, 0.81756315, 0.84108759, 0.86327747, 0.88404598,\n",
              "       0.90331187, 0.92099975, 0.93704041, 0.9513711 , 0.96393574,\n",
              "       0.97468518, 0.98357735, 0.99057747, 0.99565814, 0.99879949,\n",
              "       0.99998922, 0.99922268, 0.99650287, 0.99184044, 0.98525361,\n",
              "       0.97676818, 0.96641732, 0.95424156, 0.94028851, 0.92461278,\n",
              "       0.90727571, 0.88834511, 0.86789506, 0.84600558, 0.82276231,\n",
              "       0.79825619, 0.7725831 , 0.7458435 , 0.718142  , 0.68958699,\n",
              "       0.66029019, 0.63036624, 0.59993221, 0.56910717, 0.53801175])"
            ]
          },
          "metadata": {},
          "execution_count": 35
        }
      ]
    },
    {
      "cell_type": "code",
      "source": [
        "#Print y : what does x predict?\n",
        "y"
      ],
      "metadata": {
        "colab": {
          "base_uri": "https://localhost:8080/"
        },
        "id": "hYDC1NeM-WLn",
        "outputId": "badd1c72-8c12-4f62-a8a7-96122daa451f"
      },
      "execution_count": 36,
      "outputs": [
        {
          "output_type": "execute_result",
          "data": {
            "text/plain": [
              "array([[0.50676759]])"
            ]
          },
          "metadata": {},
          "execution_count": 36
        }
      ]
    },
    {
      "cell_type": "markdown",
      "source": [
        "##Build, Train and Test Model"
      ],
      "metadata": {
        "id": "ZVFlvv36_aWa"
      }
    },
    {
      "cell_type": "markdown",
      "source": [
        "###Build Simple RNN Model"
      ],
      "metadata": {
        "id": "0a8QM3vV_edK"
      }
    },
    {
      "cell_type": "code",
      "source": [
        "#data set: only one column/attribute: Since Values of index x\n",
        "#features : how many features used to train the model : only one\n",
        "n_features = 1\n",
        "\n",
        "#define model\n",
        "model = Sequential()\n",
        "\n",
        "#add a simple RNN layer: Using simplernn cells\n",
        "#this layer has 100 neurons: one neuron for each input data point\n",
        "#time series steps of the input sequence : 50\n",
        "#input shape 2d: #time series steps x #features\n",
        "model.add(SimpleRNN(100, input_shape = (length, n_features)))\n",
        "\n",
        "#Add a FC layer for the final prediction\n",
        "#only one neuro of the Dense/Fully connected layer\n",
        "#output : Predict the next data point of the input sequence : only one value\n",
        "model.add(Dense(1))"
      ],
      "metadata": {
        "id": "sWv02qgV_DLU"
      },
      "execution_count": 38,
      "outputs": []
    },
    {
      "cell_type": "markdown",
      "source": [
        "##Compile Model"
      ],
      "metadata": {
        "id": "CTKnZISyBUCl"
      }
    },
    {
      "cell_type": "code",
      "source": [
        "#compile the model \n",
        "#loss function: mse( mean squared errors) ; why MSE? data is real values/continous : A regression problem\n",
        "#optimizer : Adam\n",
        "model.compile (optimizer='adam', loss = 'mse')\n",
        "model.summary()\n"
      ],
      "metadata": {
        "colab": {
          "base_uri": "https://localhost:8080/"
        },
        "id": "ainkZWA5BWFD",
        "outputId": "9374c3b1-9c19-4ddf-8049-d28e01337e45"
      },
      "execution_count": 39,
      "outputs": [
        {
          "output_type": "stream",
          "name": "stdout",
          "text": [
            "Model: \"sequential\"\n",
            "_________________________________________________________________\n",
            " Layer (type)                Output Shape              Param #   \n",
            "=================================================================\n",
            " simple_rnn (SimpleRNN)      (None, 100)               10200     \n",
            "                                                                 \n",
            " dense (Dense)               (None, 1)                 101       \n",
            "                                                                 \n",
            "=================================================================\n",
            "Total params: 10,301\n",
            "Trainable params: 10,301\n",
            "Non-trainable params: 0\n",
            "_________________________________________________________________\n"
          ]
        }
      ]
    },
    {
      "cell_type": "markdown",
      "source": [
        "##Train (Fit) Model"
      ],
      "metadata": {
        "id": "K-pqB9bJDHzj"
      }
    },
    {
      "cell_type": "code",
      "source": [
        "#fit the model\n",
        "#use fit_generator(), Not fit()\n",
        "#epochs : one time trained the whole batch, here its 5 this means we will train the whole dataset into different batches 5 times\n",
        "model.fit_generator(train_tsGenerator50, epochs = 5)"
      ],
      "metadata": {
        "colab": {
          "base_uri": "https://localhost:8080/"
        },
        "id": "KkIB6uvIDLF6",
        "outputId": "f969a4f1-3f7c-4526-b5b8-2486c8fd695a"
      },
      "execution_count": 40,
      "outputs": [
        {
          "output_type": "stream",
          "name": "stderr",
          "text": [
            "/usr/local/lib/python3.7/dist-packages/ipykernel_launcher.py:3: UserWarning: `Model.fit_generator` is deprecated and will be removed in a future version. Please use `Model.fit`, which supports generators.\n",
            "  This is separate from the ipykernel package so we can avoid doing imports until\n"
          ]
        },
        {
          "output_type": "stream",
          "name": "stdout",
          "text": [
            "Epoch 1/5\n",
            "769/769 [==============================] - 15s 17ms/step - loss: 0.0052\n",
            "Epoch 2/5\n",
            "769/769 [==============================] - 12s 16ms/step - loss: 4.0007e-04\n",
            "Epoch 3/5\n",
            "769/769 [==============================] - 12s 16ms/step - loss: 2.9440e-04\n",
            "Epoch 4/5\n",
            "769/769 [==============================] - 12s 16ms/step - loss: 2.3135e-04\n",
            "Epoch 5/5\n",
            "769/769 [==============================] - 8s 11ms/step - loss: 5.6238e-05\n"
          ]
        },
        {
          "output_type": "execute_result",
          "data": {
            "text/plain": [
              "<keras.callbacks.History at 0x7fa093b71f50>"
            ]
          },
          "metadata": {},
          "execution_count": 40
        }
      ]
    },
    {
      "cell_type": "markdown",
      "source": [
        "##Visualise Model's Performance after Training"
      ],
      "metadata": {
        "id": "M_NvWrYDDpZA"
      }
    },
    {
      "cell_type": "code",
      "source": [
        "#load the loss data (model.history.history) into data frame\n",
        "df_model_loss = pd.DataFrame(model.history.history)\n",
        "\n",
        "#visualise the loss data using DataFrame.plot()\n",
        "df_model_loss.plot()\n",
        "\n",
        "#In the first epoch the loss dropped significantly"
      ],
      "metadata": {
        "colab": {
          "base_uri": "https://localhost:8080/",
          "height": 282
        },
        "id": "T_ndRiC-ET5l",
        "outputId": "ab39d956-2c92-47ec-eb49-7f9a4460b461"
      },
      "execution_count": 41,
      "outputs": [
        {
          "output_type": "execute_result",
          "data": {
            "text/plain": [
              "<matplotlib.axes._subplots.AxesSubplot at 0x7fa0910cdd10>"
            ]
          },
          "metadata": {},
          "execution_count": 41
        },
        {
          "output_type": "display_data",
          "data": {
            "image/png": "[encoded data removed]",
            "text/plain": [
              "<Figure size 432x288 with 1 Axes>"
            ]
          },
          "metadata": {
            "needs_background": "light"
          }
        }
      ]
    },
    {
      "cell_type": "markdown",
      "source": [
        "##Evaluate the Model on test data"
      ],
      "metadata": {
        "id": "lNX6R95vFMYa"
      }
    },
    {
      "cell_type": "markdown",
      "source": [
        "###A sneak peak into the test data"
      ],
      "metadata": {
        "id": "ydO0D6CLFPoR"
      }
    },
    {
      "cell_type": "code",
      "source": [
        "#number of time steps of the input time series\n",
        "length"
      ],
      "metadata": {
        "colab": {
          "base_uri": "https://localhost:8080/"
        },
        "id": "CMSTiXCbE-XZ",
        "outputId": "54ff3f49-fe20-4a55-d1d2-8180a40a79ec"
      },
      "execution_count": 42,
      "outputs": [
        {
          "output_type": "execute_result",
          "data": {
            "text/plain": [
              "50"
            ]
          },
          "metadata": {},
          "execution_count": 42
        }
      ]
    },
    {
      "cell_type": "code",
      "source": [
        "#take a sneak peak into the 1st time serie batch (50 data points)\n",
        "#array[-length:]: A sequeence of [50th to the last...last]\n",
        "first_eval_batch = normalized_train[-length :]\n",
        "first_eval_batch"
      ],
      "metadata": {
        "colab": {
          "base_uri": "https://localhost:8080/"
        },
        "id": "qI0-qXTJFW9B",
        "outputId": "499d3beb-4ecb-4be4-c117-abb3a5a79d66"
      },
      "execution_count": 43,
      "outputs": [
        {
          "output_type": "execute_result",
          "data": {
            "text/plain": [
              "array([[8.31976169e-02],\n",
              "       [6.67457884e-02],\n",
              "       [5.19891118e-02],\n",
              "       [3.89853243e-02],\n",
              "       [2.77853048e-02],\n",
              "       [1.84328746e-02],\n",
              "       [1.09646261e-02],\n",
              "       [5.40977978e-03],\n",
              "       [1.79006951e-03],\n",
              "       [1.19657859e-04],\n",
              "       [4.05080501e-04],\n",
              "       [2.64522069e-03],\n",
              "       [6.83131362e-03],\n",
              "       [1.29469807e-02],\n",
              "       [2.09682938e-02],\n",
              "       [3.08638684e-02],\n",
              "       [4.25949871e-02],\n",
              "       [5.61157506e-02],\n",
              "       [7.13732572e-02],\n",
              "       [8.83078103e-02],\n",
              "       [1.06853151e-01],\n",
              "       [1.26936720e-01],\n",
              "       [1.48479936e-01],\n",
              "       [1.71398511e-01],\n",
              "       [1.95602771e-01],\n",
              "       [2.20998016e-01],\n",
              "       [2.47484883e-01],\n",
              "       [2.74959740e-01],\n",
              "       [3.03315088e-01],\n",
              "       [3.32439984e-01],\n",
              "       [3.62220472e-01],\n",
              "       [3.92540034e-01],\n",
              "       [4.23280041e-01],\n",
              "       [4.54320219e-01],\n",
              "       [4.85539119e-01],\n",
              "       [5.16814595e-01],\n",
              "       [5.48024277e-01],\n",
              "       [5.79046054e-01],\n",
              "       [6.09758550e-01],\n",
              "       [6.40041598e-01],\n",
              "       [6.69776713e-01],\n",
              "       [6.98847552e-01],\n",
              "       [7.27140373e-01],\n",
              "       [7.54544477e-01],\n",
              "       [7.80952641e-01],\n",
              "       [8.06261542e-01],\n",
              "       [8.30372155e-01],\n",
              "       [8.53190144e-01],\n",
              "       [8.74626233e-01],\n",
              "       [8.94596548e-01]])"
            ]
          },
          "metadata": {},
          "execution_count": 43
        }
      ]
    },
    {
      "cell_type": "code",
      "source": [
        "#important notes: first_eval_batch: Currently its a 2d array 50x1\n",
        "#it's neccesary to reshape it into 3d : 1x50 x 1 : samples in a batch, timeseries steps, features"
      ],
      "metadata": {
        "id": "Te2au9AXFuyT"
      },
      "execution_count": 44,
      "outputs": []
    },
    {
      "cell_type": "code",
      "source": [
        "first_eval_batch = first_eval_batch.reshape(1, length, n_features)\n",
        "first_eval_batch"
      ],
      "metadata": {
        "colab": {
          "base_uri": "https://localhost:8080/"
        },
        "id": "dAnjT_HDH8z5",
        "outputId": "2138e5c7-fd1d-4f1a-ba91-4b21bf5e5af4"
      },
      "execution_count": 45,
      "outputs": [
        {
          "output_type": "execute_result",
          "data": {
            "text/plain": [
              "array([[[8.31976169e-02],\n",
              "        [6.67457884e-02],\n",
              "        [5.19891118e-02],\n",
              "        [3.89853243e-02],\n",
              "        [2.77853048e-02],\n",
              "        [1.84328746e-02],\n",
              "        [1.09646261e-02],\n",
              "        [5.40977978e-03],\n",
              "        [1.79006951e-03],\n",
              "        [1.19657859e-04],\n",
              "        [4.05080501e-04],\n",
              "        [2.64522069e-03],\n",
              "        [6.83131362e-03],\n",
              "        [1.29469807e-02],\n",
              "        [2.09682938e-02],\n",
              "        [3.08638684e-02],\n",
              "        [4.25949871e-02],\n",
              "        [5.61157506e-02],\n",
              "        [7.13732572e-02],\n",
              "        [8.83078103e-02],\n",
              "        [1.06853151e-01],\n",
              "        [1.26936720e-01],\n",
              "        [1.48479936e-01],\n",
              "        [1.71398511e-01],\n",
              "        [1.95602771e-01],\n",
              "        [2.20998016e-01],\n",
              "        [2.47484883e-01],\n",
              "        [2.74959740e-01],\n",
              "        [3.03315088e-01],\n",
              "        [3.32439984e-01],\n",
              "        [3.62220472e-01],\n",
              "        [3.92540034e-01],\n",
              "        [4.23280041e-01],\n",
              "        [4.54320219e-01],\n",
              "        [4.85539119e-01],\n",
              "        [5.16814595e-01],\n",
              "        [5.48024277e-01],\n",
              "        [5.79046054e-01],\n",
              "        [6.09758550e-01],\n",
              "        [6.40041598e-01],\n",
              "        [6.69776713e-01],\n",
              "        [6.98847552e-01],\n",
              "        [7.27140373e-01],\n",
              "        [7.54544477e-01],\n",
              "        [7.80952641e-01],\n",
              "        [8.06261542e-01],\n",
              "        [8.30372155e-01],\n",
              "        [8.53190144e-01],\n",
              "        [8.74626233e-01],\n",
              "        [8.94596548e-01]]])"
            ]
          },
          "metadata": {},
          "execution_count": 45
        }
      ]
    },
    {
      "cell_type": "code",
      "source": [
        "first_eval_batch.shape"
      ],
      "metadata": {
        "colab": {
          "base_uri": "https://localhost:8080/"
        },
        "id": "pUis2gQzIWyZ",
        "outputId": "79f6ca0a-e770-42b0-bd8f-cb765ab8d86c"
      },
      "execution_count": 46,
      "outputs": [
        {
          "output_type": "execute_result",
          "data": {
            "text/plain": [
              "(1, 50, 1)"
            ]
          },
          "metadata": {},
          "execution_count": 46
        }
      ]
    },
    {
      "cell_type": "markdown",
      "source": [
        "##Evaluate Model"
      ],
      "metadata": {
        "id": "mhq1Zy4uIc8J"
      }
    },
    {
      "cell_type": "code",
      "source": [
        "#all the code for the evaluation\n",
        "\n",
        "#declare a list to store all the predictions\n",
        "#similar to: test_predictions = list();\n",
        "test_predictions = []\n",
        "\n",
        "#get the first time series batch for testing\n",
        "#the 1st batch: the 1st time series input sequence\n",
        "# = the last 50 data points of the train dataset\n",
        "first_eval_batch = normalized_train[-length:]\n",
        "\n",
        "#reshape the batch into 3d array: #samples/batch x length x features\n",
        "current_batch = first_eval_batch.reshape((1, length, n_features))\n",
        "\n",
        "#run a FOR loop to make a prediction for each batch\n",
        "for i in range(len(data_test)):\n",
        "\n",
        "  #get the value of the first element: the prediction\n",
        "  current_pred = model.predict(current_batch)[0]\n",
        "\n",
        "  #store predictions into the list of predictions\n",
        "  test_predictions.append(current_pred)\n",
        "\n",
        "  #generate a new batch to prepare for the next iteration of testing\n",
        "  # drop the first data point of the current input sequence\n",
        "  #append the newly predicted value to the tail of the input sequence\n",
        "  #maintain the number of time series steps: 50\n",
        "  current_batch = np.append(current_batch[:,1:,:],[[current_pred]], axis=1)\n"
      ],
      "metadata": {
        "id": "RXX9yi0CIejy"
      },
      "execution_count": 47,
      "outputs": []
    },
    {
      "cell_type": "code",
      "source": [
        "#convert the scaled result back to the real values\n",
        "true_predictions = scaler.inverse_transform(test_predictions)\n",
        "true_predictions"
      ],
      "metadata": {
        "colab": {
          "base_uri": "https://localhost:8080/"
        },
        "id": "Ihyq-1jWKSUq",
        "outputId": "592bf24f-c664-489f-b960-ac47e2ef14a3"
      },
      "execution_count": 48,
      "outputs": [
        {
          "output_type": "execute_result",
          "data": {
            "text/plain": [
              "array([[ 0.82052807],\n",
              "       [ 0.85248999],\n",
              "       [ 0.88021117],\n",
              "       [ 0.903748  ],\n",
              "       [ 0.9220983 ],\n",
              "       [ 0.93647023],\n",
              "       [ 0.94796495],\n",
              "       [ 0.9541737 ],\n",
              "       [ 0.95539154],\n",
              "       [ 0.95286205],\n",
              "       [ 0.94690196],\n",
              "       [ 0.93657025],\n",
              "       [ 0.92157986],\n",
              "       [ 0.90347036],\n",
              "       [ 0.88174372],\n",
              "       [ 0.85634401],\n",
              "       [ 0.8268658 ],\n",
              "       [ 0.79442288],\n",
              "       [ 0.75935879],\n",
              "       [ 0.72088425],\n",
              "       [ 0.67965957],\n",
              "       [ 0.63562668],\n",
              "       [ 0.58949369],\n",
              "       [ 0.54084945],\n",
              "       [ 0.48992176],\n",
              "       [ 0.43683305],\n",
              "       [ 0.3823806 ],\n",
              "       [ 0.32617697],\n",
              "       [ 0.26845056],\n",
              "       [ 0.20933012],\n",
              "       [ 0.14937785],\n",
              "       [ 0.08863951],\n",
              "       [ 0.02724505],\n",
              "       [-0.03480405],\n",
              "       [-0.09662314],\n",
              "       [-0.15832027],\n",
              "       [-0.21972636],\n",
              "       [-0.28064452],\n",
              "       [-0.34039665],\n",
              "       [-0.39883872],\n",
              "       [-0.45582842],\n",
              "       [-0.51122286],\n",
              "       [-0.56431842],\n",
              "       [-0.61476603],\n",
              "       [-0.6628119 ],\n",
              "       [-0.7078887 ],\n",
              "       [-0.74979344],\n",
              "       [-0.78809647],\n",
              "       [-0.82277697],\n",
              "       [-0.85384071],\n",
              "       [-0.88087187],\n",
              "       [-0.90372185],\n",
              "       [-0.92249675],\n",
              "       [-0.93716993],\n",
              "       [-0.94771876],\n",
              "       [-0.95398464],\n",
              "       [-0.95623812],\n",
              "       [-0.95454998],\n",
              "       [-0.9491577 ],\n",
              "       [-0.93990012],\n",
              "       [-0.92720519],\n",
              "       [-0.9112765 ],\n",
              "       [-0.89232881],\n",
              "       [-0.87046684],\n",
              "       [-0.84591064],\n",
              "       [-0.81905788],\n",
              "       [-0.79012947],\n",
              "       [-0.75916792],\n",
              "       [-0.72644558],\n",
              "       [-0.69227997],\n",
              "       [-0.65684207],\n",
              "       [-0.62018416],\n",
              "       [-0.58243161],\n",
              "       [-0.54381817],\n",
              "       [-0.50447779],\n",
              "       [-0.46434261],\n",
              "       [-0.4234237 ],\n",
              "       [-0.38190004],\n",
              "       [-0.33971865],\n",
              "       [-0.29682992],\n",
              "       [-0.25309852],\n",
              "       [-0.20860733],\n",
              "       [-0.16330207],\n",
              "       [-0.11708796],\n",
              "       [-0.06979954],\n",
              "       [-0.0215274 ],\n",
              "       [ 0.02773595],\n",
              "       [ 0.07803147],\n",
              "       [ 0.12937258],\n",
              "       [ 0.18166187],\n",
              "       [ 0.23469061],\n",
              "       [ 0.28831326],\n",
              "       [ 0.34243026],\n",
              "       [ 0.3966853 ],\n",
              "       [ 0.45074151],\n",
              "       [ 0.50422956],\n",
              "       [ 0.55683261],\n",
              "       [ 0.60811721],\n",
              "       [ 0.65755813],\n",
              "       [ 0.70471655],\n",
              "       [ 0.7491985 ],\n",
              "       [ 0.79058161],\n",
              "       [ 0.82836557],\n",
              "       [ 0.86220527],\n",
              "       [ 0.89179839],\n",
              "       [ 0.9168841 ],\n",
              "       [ 0.93718155],\n",
              "       [ 0.95250406],\n",
              "       [ 0.96278952],\n",
              "       [ 0.96798989],\n",
              "       [ 0.96804305],\n",
              "       [ 0.96298979],\n",
              "       [ 0.95292296],\n",
              "       [ 0.93798502],\n",
              "       [ 0.91827944],\n",
              "       [ 0.89396131],\n",
              "       [ 0.86523448],\n",
              "       [ 0.83233046],\n",
              "       [ 0.79542876],\n",
              "       [ 0.75474231],\n",
              "       [ 0.71051344],\n",
              "       [ 0.66299679],\n",
              "       [ 0.61242185],\n",
              "       [ 0.5590071 ],\n",
              "       [ 0.50301661],\n",
              "       [ 0.4447248 ],\n",
              "       [ 0.38438212],\n",
              "       [ 0.32223461],\n",
              "       [ 0.25856648],\n",
              "       [ 0.19367896],\n",
              "       [ 0.1278628 ],\n",
              "       [ 0.06140279],\n",
              "       [-0.00538432],\n",
              "       [-0.0721532 ],\n",
              "       [-0.1385688 ],\n",
              "       [-0.20430741],\n",
              "       [-0.26901111],\n",
              "       [-0.33231315],\n",
              "       [-0.39384799],\n",
              "       [-0.4532752 ],\n",
              "       [-0.51024726],\n",
              "       [-0.56440884],\n",
              "       [-0.61543092],\n",
              "       [-0.66302314],\n",
              "       [-0.70691241],\n",
              "       [-0.74684255],\n",
              "       [-0.78259966],\n",
              "       [-0.81402353],\n",
              "       [-0.84099809],\n",
              "       [-0.86343787],\n",
              "       [-0.88130454],\n",
              "       [-0.89462842],\n",
              "       [-0.90348276],\n",
              "       [-0.90797697],\n",
              "       [-0.90826289],\n",
              "       [-0.90454257],\n",
              "       [-0.8970622 ],\n",
              "       [-0.88608195],\n",
              "       [-0.87188746],\n",
              "       [-0.85479364],\n",
              "       [-0.83513582],\n",
              "       [-0.81324389],\n",
              "       [-0.78944633],\n",
              "       [-0.76407265],\n",
              "       [-0.73744886],\n",
              "       [-0.70987368],\n",
              "       [-0.68161504],\n",
              "       [-0.65291909],\n",
              "       [-0.62400454],\n",
              "       [-0.59504322],\n",
              "       [-0.5661596 ],\n",
              "       [-0.53743474],\n",
              "       [-0.50891221],\n",
              "       [-0.48058035],\n",
              "       [-0.45237464],\n",
              "       [-0.42418509],\n",
              "       [-0.39586691],\n",
              "       [-0.36723276],\n",
              "       [-0.33805443],\n",
              "       [-0.30807764],\n",
              "       [-0.277035  ],\n",
              "       [-0.24464959],\n",
              "       [-0.21063484],\n",
              "       [-0.17471495],\n",
              "       [-0.13664125],\n",
              "       [-0.09619816],\n",
              "       [-0.05320781],\n",
              "       [-0.00754474],\n",
              "       [ 0.04084427],\n",
              "       [ 0.09193623],\n",
              "       [ 0.14563052],\n",
              "       [ 0.20174081],\n",
              "       [ 0.25998351],\n",
              "       [ 0.31997882],\n",
              "       [ 0.3812629 ],\n",
              "       [ 0.44328953],\n",
              "       [ 0.50543822],\n",
              "       [ 0.56702521],\n",
              "       [ 0.62732915],\n",
              "       [ 0.6856131 ],\n",
              "       [ 0.74113855],\n",
              "       [ 0.7931868 ],\n",
              "       [ 0.84108814],\n",
              "       [ 0.88424102],\n",
              "       [ 0.92212095]])"
            ]
          },
          "metadata": {},
          "execution_count": 48
        }
      ]
    },
    {
      "cell_type": "code",
      "source": [
        "data_test"
      ],
      "metadata": {
        "colab": {
          "base_uri": "https://localhost:8080/",
          "height": 424
        },
        "id": "DRFDlgS6Kpyv",
        "outputId": "6f053318-1504-4bdd-c2f2-deafb8654786"
      },
      "execution_count": 49,
      "outputs": [
        {
          "output_type": "execute_result",
          "data": {
            "text/html": [
              "\n",
              "  <div id=\"df-085f5c83-bb33-4053-8ef4-0e31aeaf9fae\">\n",
              "    <div class=\"colab-df-container\">\n",
              "      <div>\n",
              "<style scoped>\n",
              "    .dataframe tbody tr th:only-of-type {\n",
              "        vertical-align: middle;\n",
              "    }\n",
              "\n",
              "    .dataframe tbody tr th {\n",
              "        vertical-align: top;\n",
              "    }\n",
              "\n",
              "    .dataframe thead th {\n",
              "        text-align: right;\n",
              "    }\n",
              "</style>\n",
              "<table border=\"1\" class=\"dataframe\">\n",
              "  <thead>\n",
              "    <tr style=\"text-align: right;\">\n",
              "      <th></th>\n",
              "      <th>Sine</th>\n",
              "    </tr>\n",
              "  </thead>\n",
              "  <tbody>\n",
              "    <tr>\n",
              "      <th>51.237537</th>\n",
              "      <td>0.826045</td>\n",
              "    </tr>\n",
              "    <tr>\n",
              "      <th>51.300098</th>\n",
              "      <td>0.859666</td>\n",
              "    </tr>\n",
              "    <tr>\n",
              "      <th>51.362659</th>\n",
              "      <td>0.889923</td>\n",
              "    </tr>\n",
              "    <tr>\n",
              "      <th>51.425220</th>\n",
              "      <td>0.916698</td>\n",
              "    </tr>\n",
              "    <tr>\n",
              "      <th>51.487781</th>\n",
              "      <td>0.939887</td>\n",
              "    </tr>\n",
              "    <tr>\n",
              "      <th>...</th>\n",
              "      <td>...</td>\n",
              "    </tr>\n",
              "    <tr>\n",
              "      <th>63.749756</th>\n",
              "      <td>0.794329</td>\n",
              "    </tr>\n",
              "    <tr>\n",
              "      <th>63.812317</th>\n",
              "      <td>0.830756</td>\n",
              "    </tr>\n",
              "    <tr>\n",
              "      <th>63.874878</th>\n",
              "      <td>0.863931</td>\n",
              "    </tr>\n",
              "    <tr>\n",
              "      <th>63.937439</th>\n",
              "      <td>0.893727</td>\n",
              "    </tr>\n",
              "    <tr>\n",
              "      <th>64.000000</th>\n",
              "      <td>0.920026</td>\n",
              "    </tr>\n",
              "  </tbody>\n",
              "</table>\n",
              "<p>205 rows × 1 columns</p>\n",
              "</div>\n",
              "      <button class=\"colab-df-convert\" onclick=\"convertToInteractive('df-085f5c83-bb33-4053-8ef4-0e31aeaf9fae')\"\n",
              "              title=\"Convert this dataframe to an interactive table.\"\n",
              "              style=\"display:none;\">\n",
              "        \n",
              "  <svg xmlns=\"http://www.w3.org/2000/svg\" height=\"24px\"viewBox=\"0 0 24 24\"\n",
              "       width=\"24px\">\n",
              "    <path d=\"M0 0h24v24H0V0z\" fill=\"none\"/>\n",
              "    <path d=\"M18.56 5.44l.94 2.06.94-2.06 2.06-.94-2.06-.94-.94-2.06-.94 2.06-2.06.94zm-11 1L8.5 8.5l.94-2.06 2.06-.94-2.06-.94L8.5 2.5l-.94 2.06-2.06.94zm10 10l.94 2.06.94-2.06 2.06-.94-2.06-.94-.94-2.06-.94 2.06-2.06.94z\"/><path d=\"M17.41 7.96l-1.37-1.37c-.4-.4-.92-.59-1.43-.59-.52 0-1.04.2-1.43.59L10.3 9.45l-7.72 7.72c-.78.78-.78 2.05 0 2.83L4 21.41c.39.39.9.59 1.41.59.51 0 1.02-.2 1.41-.59l7.78-7.78 2.81-2.81c.8-.78.8-2.07 0-2.86zM5.41 20L4 18.59l7.72-7.72 1.47 1.35L5.41 20z\"/>\n",
              "  </svg>\n",
              "      </button>\n",
              "      \n",
              "  <style>\n",
              "    .colab-df-container {\n",
              "      display:flex;\n",
              "      flex-wrap:wrap;\n",
              "      gap: 12px;\n",
              "    }\n",
              "\n",
              "    .colab-df-convert {\n",
              "      background-color: #E8F0FE;\n",
              "      border: none;\n",
              "      border-radius: 50%;\n",
              "      cursor: pointer;\n",
              "      display: none;\n",
              "      fill: #1967D2;\n",
              "      height: 32px;\n",
              "      padding: 0 0 0 0;\n",
              "      width: 32px;\n",
              "    }\n",
              "\n",
              "    .colab-df-convert:hover {\n",
              "      background-color: #E2EBFA;\n",
              "      box-shadow: 0px 1px 2px rgba(60, 64, 67, 0.3), 0px 1px 3px 1px rgba(60, 64, 67, 0.15);\n",
              "      fill: #174EA6;\n",
              "    }\n",
              "\n",
              "    [theme=dark] .colab-df-convert {\n",
              "      background-color: #3B4455;\n",
              "      fill: #D2E3FC;\n",
              "    }\n",
              "\n",
              "    [theme=dark] .colab-df-convert:hover {\n",
              "      background-color: #434B5C;\n",
              "      box-shadow: 0px 1px 3px 1px rgba(0, 0, 0, 0.15);\n",
              "      filter: drop-shadow(0px 1px 2px rgba(0, 0, 0, 0.3));\n",
              "      fill: #FFFFFF;\n",
              "    }\n",
              "  </style>\n",
              "\n",
              "      <script>\n",
              "        const buttonEl =\n",
              "          document.querySelector('#df-085f5c83-bb33-4053-8ef4-0e31aeaf9fae button.colab-df-convert');\n",
              "        buttonEl.style.display =\n",
              "          google.colab.kernel.accessAllowed ? 'block' : 'none';\n",
              "\n",
              "        async function convertToInteractive(key) {\n",
              "          const element = document.querySelector('#df-085f5c83-bb33-4053-8ef4-0e31aeaf9fae');\n",
              "          const dataTable =\n",
              "            await google.colab.kernel.invokeFunction('convertToInteractive',\n",
              "                                                     [key], {});\n",
              "          if (!dataTable) return;\n",
              "\n",
              "          const docLinkHtml = 'Like what you see? Visit the ' +\n",
              "            '<a target=\"_blank\" href=https://colab.research.google.com/notebooks/data_table.ipynb>data table notebook</a>'\n",
              "            + ' to learn more about interactive tables.';\n",
              "          element.innerHTML = '';\n",
              "          dataTable['output_type'] = 'display_data';\n",
              "          await google.colab.output.renderOutput(dataTable, element);\n",
              "          const docLink = document.createElement('div');\n",
              "          docLink.innerHTML = docLinkHtml;\n",
              "          element.appendChild(docLink);\n",
              "        }\n",
              "      </script>\n",
              "    </div>\n",
              "  </div>\n",
              "  "
            ],
            "text/plain": [
              "               Sine\n",
              "51.237537  0.826045\n",
              "51.300098  0.859666\n",
              "51.362659  0.889923\n",
              "51.425220  0.916698\n",
              "51.487781  0.939887\n",
              "...             ...\n",
              "63.749756  0.794329\n",
              "63.812317  0.830756\n",
              "63.874878  0.863931\n",
              "63.937439  0.893727\n",
              "64.000000  0.920026\n",
              "\n",
              "[205 rows x 1 columns]"
            ]
          },
          "metadata": {},
          "execution_count": 49
        }
      ]
    },
    {
      "cell_type": "code",
      "source": [
        "#copy the true values of predictions into the dataframe of original dataset\n",
        "#add it into new column\n",
        "data_test['Predictions'] = true_predictions"
      ],
      "metadata": {
        "colab": {
          "base_uri": "https://localhost:8080/"
        },
        "id": "kLclyyJeK-US",
        "outputId": "475adc5a-d453-4190-9b8a-c79f56920442"
      },
      "execution_count": 50,
      "outputs": [
        {
          "output_type": "stream",
          "name": "stderr",
          "text": [
            "/usr/local/lib/python3.7/dist-packages/ipykernel_launcher.py:3: SettingWithCopyWarning: \n",
            "A value is trying to be set on a copy of a slice from a DataFrame.\n",
            "Try using .loc[row_indexer,col_indexer] = value instead\n",
            "\n",
            "See the caveats in the documentation: https://pandas.pydata.org/pandas-docs/stable/user_guide/indexing.html#returning-a-view-versus-a-copy\n",
            "  This is separate from the ipykernel package so we can avoid doing imports until\n"
          ]
        }
      ]
    },
    {
      "cell_type": "code",
      "source": [
        "#updated data_test\n",
        "data_test"
      ],
      "metadata": {
        "colab": {
          "base_uri": "https://localhost:8080/",
          "height": 424
        },
        "id": "OAWxKoo6LSnB",
        "outputId": "6b4cb2df-3ecd-416f-b71e-897c63ff49a8"
      },
      "execution_count": 51,
      "outputs": [
        {
          "output_type": "execute_result",
          "data": {
            "text/html": [
              "\n",
              "  <div id=\"df-2ea5e45f-39d1-4a09-ac3b-96af597d74b0\">\n",
              "    <div class=\"colab-df-container\">\n",
              "      <div>\n",
              "<style scoped>\n",
              "    .dataframe tbody tr th:only-of-type {\n",
              "        vertical-align: middle;\n",
              "    }\n",
              "\n",
              "    .dataframe tbody tr th {\n",
              "        vertical-align: top;\n",
              "    }\n",
              "\n",
              "    .dataframe thead th {\n",
              "        text-align: right;\n",
              "    }\n",
              "</style>\n",
              "<table border=\"1\" class=\"dataframe\">\n",
              "  <thead>\n",
              "    <tr style=\"text-align: right;\">\n",
              "      <th></th>\n",
              "      <th>Sine</th>\n",
              "      <th>Predictions</th>\n",
              "    </tr>\n",
              "  </thead>\n",
              "  <tbody>\n",
              "    <tr>\n",
              "      <th>51.237537</th>\n",
              "      <td>0.826045</td>\n",
              "      <td>0.820528</td>\n",
              "    </tr>\n",
              "    <tr>\n",
              "      <th>51.300098</th>\n",
              "      <td>0.859666</td>\n",
              "      <td>0.852490</td>\n",
              "    </tr>\n",
              "    <tr>\n",
              "      <th>51.362659</th>\n",
              "      <td>0.889923</td>\n",
              "      <td>0.880211</td>\n",
              "    </tr>\n",
              "    <tr>\n",
              "      <th>51.425220</th>\n",
              "      <td>0.916698</td>\n",
              "      <td>0.903748</td>\n",
              "    </tr>\n",
              "    <tr>\n",
              "      <th>51.487781</th>\n",
              "      <td>0.939887</td>\n",
              "      <td>0.922098</td>\n",
              "    </tr>\n",
              "    <tr>\n",
              "      <th>...</th>\n",
              "      <td>...</td>\n",
              "      <td>...</td>\n",
              "    </tr>\n",
              "    <tr>\n",
              "      <th>63.749756</th>\n",
              "      <td>0.794329</td>\n",
              "      <td>0.741139</td>\n",
              "    </tr>\n",
              "    <tr>\n",
              "      <th>63.812317</th>\n",
              "      <td>0.830756</td>\n",
              "      <td>0.793187</td>\n",
              "    </tr>\n",
              "    <tr>\n",
              "      <th>63.874878</th>\n",
              "      <td>0.863931</td>\n",
              "      <td>0.841088</td>\n",
              "    </tr>\n",
              "    <tr>\n",
              "      <th>63.937439</th>\n",
              "      <td>0.893727</td>\n",
              "      <td>0.884241</td>\n",
              "    </tr>\n",
              "    <tr>\n",
              "      <th>64.000000</th>\n",
              "      <td>0.920026</td>\n",
              "      <td>0.922121</td>\n",
              "    </tr>\n",
              "  </tbody>\n",
              "</table>\n",
              "<p>205 rows × 2 columns</p>\n",
              "</div>\n",
              "      <button class=\"colab-df-convert\" onclick=\"convertToInteractive('df-2ea5e45f-39d1-4a09-ac3b-96af597d74b0')\"\n",
              "              title=\"Convert this dataframe to an interactive table.\"\n",
              "              style=\"display:none;\">\n",
              "        \n",
              "  <svg xmlns=\"http://www.w3.org/2000/svg\" height=\"24px\"viewBox=\"0 0 24 24\"\n",
              "       width=\"24px\">\n",
              "    <path d=\"M0 0h24v24H0V0z\" fill=\"none\"/>\n",
              "    <path d=\"M18.56 5.44l.94 2.06.94-2.06 2.06-.94-2.06-.94-.94-2.06-.94 2.06-2.06.94zm-11 1L8.5 8.5l.94-2.06 2.06-.94-2.06-.94L8.5 2.5l-.94 2.06-2.06.94zm10 10l.94 2.06.94-2.06 2.06-.94-2.06-.94-.94-2.06-.94 2.06-2.06.94z\"/><path d=\"M17.41 7.96l-1.37-1.37c-.4-.4-.92-.59-1.43-.59-.52 0-1.04.2-1.43.59L10.3 9.45l-7.72 7.72c-.78.78-.78 2.05 0 2.83L4 21.41c.39.39.9.59 1.41.59.51 0 1.02-.2 1.41-.59l7.78-7.78 2.81-2.81c.8-.78.8-2.07 0-2.86zM5.41 20L4 18.59l7.72-7.72 1.47 1.35L5.41 20z\"/>\n",
              "  </svg>\n",
              "      </button>\n",
              "      \n",
              "  <style>\n",
              "    .colab-df-container {\n",
              "      display:flex;\n",
              "      flex-wrap:wrap;\n",
              "      gap: 12px;\n",
              "    }\n",
              "\n",
              "    .colab-df-convert {\n",
              "      background-color: #E8F0FE;\n",
              "      border: none;\n",
              "      border-radius: 50%;\n",
              "      cursor: pointer;\n",
              "      display: none;\n",
              "      fill: #1967D2;\n",
              "      height: 32px;\n",
              "      padding: 0 0 0 0;\n",
              "      width: 32px;\n",
              "    }\n",
              "\n",
              "    .colab-df-convert:hover {\n",
              "      background-color: #E2EBFA;\n",
              "      box-shadow: 0px 1px 2px rgba(60, 64, 67, 0.3), 0px 1px 3px 1px rgba(60, 64, 67, 0.15);\n",
              "      fill: #174EA6;\n",
              "    }\n",
              "\n",
              "    [theme=dark] .colab-df-convert {\n",
              "      background-color: #3B4455;\n",
              "      fill: #D2E3FC;\n",
              "    }\n",
              "\n",
              "    [theme=dark] .colab-df-convert:hover {\n",
              "      background-color: #434B5C;\n",
              "      box-shadow: 0px 1px 3px 1px rgba(0, 0, 0, 0.15);\n",
              "      filter: drop-shadow(0px 1px 2px rgba(0, 0, 0, 0.3));\n",
              "      fill: #FFFFFF;\n",
              "    }\n",
              "  </style>\n",
              "\n",
              "      <script>\n",
              "        const buttonEl =\n",
              "          document.querySelector('#df-2ea5e45f-39d1-4a09-ac3b-96af597d74b0 button.colab-df-convert');\n",
              "        buttonEl.style.display =\n",
              "          google.colab.kernel.accessAllowed ? 'block' : 'none';\n",
              "\n",
              "        async function convertToInteractive(key) {\n",
              "          const element = document.querySelector('#df-2ea5e45f-39d1-4a09-ac3b-96af597d74b0');\n",
              "          const dataTable =\n",
              "            await google.colab.kernel.invokeFunction('convertToInteractive',\n",
              "                                                     [key], {});\n",
              "          if (!dataTable) return;\n",
              "\n",
              "          const docLinkHtml = 'Like what you see? Visit the ' +\n",
              "            '<a target=\"_blank\" href=https://colab.research.google.com/notebooks/data_table.ipynb>data table notebook</a>'\n",
              "            + ' to learn more about interactive tables.';\n",
              "          element.innerHTML = '';\n",
              "          dataTable['output_type'] = 'display_data';\n",
              "          await google.colab.output.renderOutput(dataTable, element);\n",
              "          const docLink = document.createElement('div');\n",
              "          docLink.innerHTML = docLinkHtml;\n",
              "          element.appendChild(docLink);\n",
              "        }\n",
              "      </script>\n",
              "    </div>\n",
              "  </div>\n",
              "  "
            ],
            "text/plain": [
              "               Sine  Predictions\n",
              "51.237537  0.826045     0.820528\n",
              "51.300098  0.859666     0.852490\n",
              "51.362659  0.889923     0.880211\n",
              "51.425220  0.916698     0.903748\n",
              "51.487781  0.939887     0.922098\n",
              "...             ...          ...\n",
              "63.749756  0.794329     0.741139\n",
              "63.812317  0.830756     0.793187\n",
              "63.874878  0.863931     0.841088\n",
              "63.937439  0.893727     0.884241\n",
              "64.000000  0.920026     0.922121\n",
              "\n",
              "[205 rows x 2 columns]"
            ]
          },
          "metadata": {},
          "execution_count": 51
        }
      ]
    },
    {
      "cell_type": "code",
      "source": [
        "#Visualise the data of the updated test data\n",
        "#compute the preedicted sine wave against the original sine wave\n",
        "data_test.plot(figsize=(10,5))"
      ],
      "metadata": {
        "colab": {
          "base_uri": "https://localhost:8080/",
          "height": 337
        },
        "id": "qfUYdmWWLjJV",
        "outputId": "eecb25aa-4a4b-40bd-8a7a-f5023bafbbb5"
      },
      "execution_count": 53,
      "outputs": [
        {
          "output_type": "execute_result",
          "data": {
            "text/plain": [
              "<matplotlib.axes._subplots.AxesSubplot at 0x7fa090f93190>"
            ]
          },
          "metadata": {},
          "execution_count": 53
        },
        {
          "output_type": "display_data",
          "data": {
            "image/png": "[encoded data removed]",
            "text/plain": [
              "<Figure size 720x360 with 1 Axes>"
            ]
          },
          "metadata": {
            "needs_background": "light"
          }
        }
      ]
    }
  ]
}